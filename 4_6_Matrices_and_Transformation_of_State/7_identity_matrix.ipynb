{
 "cells": [
  {
   "cell_type": "markdown",
   "metadata": {
    "collapsed": true
   },
   "source": [
    "# Identity Matrix\n",
    "\n",
    "Write a function called identity_matrix that outputs an identity matrix of size n.\n",
    "\n",
    "INPUT\n",
    "* n - size of the Identity matrix\n",
    "\n",
    "OUPUT\n",
    "* identity matrix as a list of lists\n",
    "\n",
    "\n",
    "HINTS\n",
    "* nested for loops will be helpful\n",
    "* the one values are always on the diagonal. To access diagonal values in a list of lists will occur where i = j\n",
    "* whenever i does not equal j, the value in the matrix should be 0"
   ]
  },
  {
   "cell_type": "code",
   "execution_count": 1,
   "metadata": {},
   "outputs": [],
   "source": [
    "def identity_matrix(n):\n",
    "    \n",
    "    identity = []\n",
    "    \n",
    "    # TODO: Write a nested for loop to iterate over the rows and\n",
    "    # columns of the identity matrix. Remember that identity\n",
    "    # matrices are square so they have the same number of rows\n",
    "    # and columns\n",
    "    \n",
    "    # Make sure to assign 1 to the diagonal values and 0 everywhere\n",
    "    # else\n",
    "    for r in range(n):\n",
    "        row = []\n",
    "        for c in range(n):\n",
    "            row.append(r==c)\n",
    "        identity.append(row)\n",
    "    \n",
    "    return identity"
   ]
  },
  {
   "cell_type": "code",
   "execution_count": 2,
   "metadata": {},
   "outputs": [],
   "source": [
    "# TODO: Run this cell to see if your answers are as expected\n",
    "\n",
    "assert identity_matrix(1) == [[1]]\n",
    "\n",
    "assert identity_matrix(2) == [[1, 0], \n",
    "                             [0, 1]]\n",
    "\n",
    "assert identity_matrix(3) == [[1, 0, 0],\n",
    "                             [0, 1, 0],\n",
    "                             [0, 0, 1]]\n",
    "\n",
    "assert identity_matrix(4) == [[1, 0, 0, 0],\n",
    "                             [0, 1, 0, 0],\n",
    "                             [0, 0, 1, 0],\n",
    "                             [0, 0, 0, 1]]"
   ]
  },
  {
   "cell_type": "markdown",
   "metadata": {},
   "source": [
    "# Multiplication with the Identity Matrix\n",
    "\n",
    "Copy your matrix multiplication function in the code cell below. Try multiplying a matrix with an identity matrix to prove to yourself that the identity matrix is analogous to multiplyin a scalar by one."
   ]
  },
  {
   "cell_type": "code",
   "execution_count": 3,
   "metadata": {},
   "outputs": [],
   "source": [
    "# TODO: Copy your matrix multiplication function and any other helper\n",
    "# funcitons here from the previous exercises\n",
    "def get_row(matrix, row):\n",
    "    return matrix[row]\n",
    "\n",
    "def get_column(matrix, column_number):\n",
    "    column = [row[column_number] for row in matrix]\n",
    "    return column\n",
    "\n",
    "def dot_product(vector_one, vector_two):\n",
    "    return sum([x*y for x, y in zip(vector_one, vector_two)])\n",
    "\n",
    "def matrix_multiplication(matrixA, matrixB):\n",
    "    \n",
    "    ### TODO: store the number of rows in A and the number\n",
    "    ###       of columns in B. This will be the size of the output\n",
    "    ###       matrix\n",
    "    ### HINT: The len function in Python will be helpful\n",
    "    m_rows = len(matrixA)\n",
    "    p_columns = len(matrixB[0])\n",
    "    \n",
    "    \n",
    "    # empty list that will hold the product of AxB\n",
    "    result = []\n",
    "\n",
    "    \n",
    "    ### TODO:  Write a for loop within a for loop. The outside\n",
    "    ###        for loop will iterate through m_rows.\n",
    "    ###        The inside for loop will iterate through p_columns.\n",
    "    \n",
    "    ### TODO:  As you iterate through the m_rows and p_columns,\n",
    "    ###        use your get_row function to grab the current A row\n",
    "    ###        and use your get_column function to grab the current\n",
    "    ###        B column.\n",
    "    \n",
    "    \n",
    "    ### TODO: Calculate the dot product of the A row and the B column\n",
    "    \n",
    "    \n",
    "    ### TODO: Append the dot product to an empty list called row_result. \n",
    "    ###       This list will accumulate the values of a row \n",
    "    ###        in the result matrix\n",
    "    row_result = []\n",
    "    \n",
    "    ### TODO: After iterating through all of the columns in matrix B,\n",
    "    ###       append the row_result list to the result variable. \n",
    "    ###       Reinitialize the row_result to row_result = []. \n",
    "    ###       Your for loop will move down to the next row \n",
    "    ###       of matrix A.\n",
    "    ###       The loop will iterate through all of the columns \n",
    "    ###       taking the dot product\n",
    "    ###       between the row in A and each column in B.\n",
    "    \n",
    "    ### TODO: return the result of AxB\n",
    "    for i in range(m_rows):\n",
    "        row_result = []\n",
    "        for j in range(p_columns): \n",
    "            row_result.append(dot_product(\n",
    "                get_row(matrixA, i),\n",
    "                get_column(matrixB, j)))\n",
    "        result.append(row_result)\n",
    "    \n",
    "    return result"
   ]
  },
  {
   "cell_type": "code",
   "execution_count": 4,
   "metadata": {},
   "outputs": [],
   "source": [
    "# TODO: Run this cell to see if your results are as expected.\n",
    "\n",
    "m = [[5, 9, 2, 4],\n",
    "     [3, 8, 5, 6],\n",
    "     [1, 0, 0, 15]]\n",
    "\n",
    "assert matrix_multiplication(m, identity_matrix(4)) == m\n",
    "assert matrix_multiplication(identity_matrix(3), m) == m"
   ]
  },
  {
   "cell_type": "code",
   "execution_count": null,
   "metadata": {},
   "outputs": [],
   "source": []
  }
 ],
 "metadata": {
  "kernelspec": {
   "display_name": "Python 3",
   "language": "python",
   "name": "python3"
  },
  "language_info": {
   "codemirror_mode": {
    "name": "ipython",
    "version": 3
   },
   "file_extension": ".py",
   "mimetype": "text/x-python",
   "name": "python",
   "nbconvert_exporter": "python",
   "pygments_lexer": "ipython3",
   "version": "3.6.8"
  }
 },
 "nbformat": 4,
 "nbformat_minor": 2
}
